{
 "cells": [
  {
   "cell_type": "code",
   "execution_count": 1,
   "id": "84260921",
   "metadata": {},
   "outputs": [],
   "source": [
    "%matplotlib inline\n",
    "\n",
    "import gc\n",
    "import os\n",
    "import sys\n",
    "import pandas as pd\n",
    "import numpy as np\n",
    "import tqdm\n",
    "import seaborn as sns\n",
    "from scipy.stats import mode\n",
    "import pickle\n",
    "\n",
    "from sklearn.model_selection import cross_val_score\n",
    "from sklearn.metrics import recall_score, precision_score\n",
    "import platform\n",
    "from collections import Counter\n",
    "from sklearn.metrics import recall_score, matthews_corrcoef\n",
    "from lightgbm import LGBMClassifier, LGBMRegressor, log_evaluation\n",
    "from lightgbm import early_stopping\n",
    "from sklearn.linear_model import LogisticRegression\n",
    "\n",
    "import matplotlib\n",
    "import matplotlib.pyplot as plt \n",
    "\n",
    "from sklearn.model_selection import train_test_split, StratifiedKFold, KFold\n",
    "from sklearn.metrics import roc_auc_score, matthews_corrcoef, accuracy_score\n",
    "from sklearn.metrics import recall_score, precision_score\n",
    "\n",
    "from skopt.space import Real, Categorical, Integer\n",
    "from skopt.utils import use_named_args\n",
    "from skopt import gp_minimize\n",
    "\n",
    "#from utils import prepare_df, transform_datetime_features\n",
    "\n",
    "pd.set_option('display.max_columns', None)\n",
    "\n",
    "# если у вас есть CUDA, то она понадобится там для экспериментов в catboost\n",
    "os.environ[\"CUDA_VISIBLE_DEVICES\"] = '0'\n",
    "\n",
    "task_type = 'GPU'\n",
    "if platform.node() == 'VLAD2016':\n",
    "    task_type = 'CPU'\n",
    "    \n",
    "import warnings\n",
    "warnings.simplefilter(action = 'ignore', category = FutureWarning)\n",
    "warnings.simplefilter(action = 'ignore', category = DeprecationWarning)\n",
    "warnings.simplefilter(action = 'ignore', category = UserWarning)\n",
    "warnings.simplefilter(action = 'ignore', category = RuntimeWarning)\n",
    "warnings.filterwarnings(\"ignore\", message = \"numpy.dtype size changed\")\n",
    "warnings.filterwarnings(\"ignore\", message = \"numpy.ufunc size changed\")\n",
    "pd.options.mode.chained_assignment = None\n",
    "\n",
    "DEBUG = False\n",
    "target = 'time_to_under'\n",
    "target2 = 'label'\n",
    "ver = '03-reg'"
   ]
  },
  {
   "cell_type": "code",
   "execution_count": 2,
   "id": "715d9861",
   "metadata": {},
   "outputs": [],
   "source": [
    "with open('dtrain.pkl', 'rb') as f:\n",
    "    dtrain = pickle.load(f)"
   ]
  },
  {
   "cell_type": "code",
   "execution_count": 3,
   "id": "2ed2c98a",
   "metadata": {},
   "outputs": [
    {
     "data": {
      "text/plain": [
       "Index(['id', 'ticket_id', 'entrance_id', 'entrance_nm', 'station_id',\n",
       "       'station_nm', 'line_id', 'pass_dttm', 'time_to_under', 'label',\n",
       "       ...\n",
       "       '19_count_hour', '20_count_hour', '21_count_hour', '22_count_hour',\n",
       "       '23_count_hour', '0_count_hour', '1_count_hour', '2_count_hour',\n",
       "       '3_count_hour', '4_count_hour'],\n",
       "      dtype='object', length=127)"
      ]
     },
     "execution_count": 3,
     "metadata": {},
     "output_type": "execute_result"
    }
   ],
   "source": [
    "dtrain.columns"
   ]
  },
  {
   "cell_type": "code",
   "execution_count": 8,
   "id": "a64b8d35",
   "metadata": {},
   "outputs": [
    {
     "data": {
      "text/plain": [
       "129"
      ]
     },
     "execution_count": 8,
     "metadata": {},
     "output_type": "execute_result"
    }
   ],
   "source": [
    "use = [f for f in dtrain.columns if f not in ['id', 'ticket_id', 'pass_dttm', target, target2]]\n",
    "len(use)"
   ]
  },
  {
   "cell_type": "code",
   "execution_count": 9,
   "id": "9a91020a",
   "metadata": {},
   "outputs": [],
   "source": [
    "X_train, X_val = train_test_split(\n",
    "    dtrain,\n",
    "    test_size = 0.1, \n",
    "    random_state = 1,\n",
    "    stratify = dtrain[target2]\n",
    ")"
   ]
  },
  {
   "cell_type": "code",
   "execution_count": 16,
   "id": "24989672",
   "metadata": {},
   "outputs": [],
   "source": [
    "def get_score(use2):\n",
    "    models = []\n",
    "    SEEDS = 1\n",
    "    \n",
    "    params = {\n",
    "        'max_depth': 5,\n",
    "        'num_leaves': 31,\n",
    "        'subsample': 0.98,\n",
    "        'subsample_freq': 3,\n",
    "        'colsample_bytree': 0.98,\n",
    "        'reg_alpha': 0.01,\n",
    "        'reg_lambda': 0.1,        \n",
    "        'n_estimators': 1000,\n",
    "        'random_state': 0,\n",
    "    }\n",
    "    for seed in range(SEEDS):\n",
    "        params['random_state'] = seed\n",
    "        model = LGBMClassifier(**params)\n",
    "        model.fit(\n",
    "            X_train[use2],\n",
    "            X_train[target2],\n",
    "            eval_set = (X_val[use2], X_val[target2]),\n",
    "            callbacks = [early_stopping(10, verbose = 1), log_evaluation(1)],\n",
    "            #eval_metric = lgb_metric\n",
    "        )\n",
    "        models.append(model)\n",
    "    return models, dict(model.best_score_)['valid_0']['multi_logloss']"
   ]
  },
  {
   "cell_type": "code",
   "execution_count": 17,
   "id": "25e4ba1a",
   "metadata": {},
   "outputs": [
    {
     "name": "stdout",
     "output_type": "stream",
     "text": [
      "[1]\tvalid_0's multi_logloss: 5.15975\n",
      "Training until validation scores don't improve for 10 rounds\n",
      "[2]\tvalid_0's multi_logloss: 5.20643\n",
      "[3]\tvalid_0's multi_logloss: 5.22487\n",
      "[4]\tvalid_0's multi_logloss: 5.12956\n",
      "[5]\tvalid_0's multi_logloss: 5.14375\n",
      "[6]\tvalid_0's multi_logloss: 5.10786\n",
      "[7]\tvalid_0's multi_logloss: 5.10076\n",
      "[8]\tvalid_0's multi_logloss: 5.08569\n",
      "[9]\tvalid_0's multi_logloss: 5.11778\n",
      "[10]\tvalid_0's multi_logloss: 5.05303\n",
      "[11]\tvalid_0's multi_logloss: 5.06429\n",
      "[12]\tvalid_0's multi_logloss: 5.10037\n",
      "[13]\tvalid_0's multi_logloss: 5.09983\n",
      "[14]\tvalid_0's multi_logloss: 5.10231\n",
      "[15]\tvalid_0's multi_logloss: 5.10234\n",
      "[16]\tvalid_0's multi_logloss: 5.10666\n",
      "[17]\tvalid_0's multi_logloss: 5.09051\n",
      "[18]\tvalid_0's multi_logloss: 5.13931\n",
      "[19]\tvalid_0's multi_logloss: 5.24149\n",
      "[20]\tvalid_0's multi_logloss: 5.32564\n",
      "Early stopping, best iteration is:\n",
      "[10]\tvalid_0's multi_logloss: 5.05303\n"
     ]
    },
    {
     "data": {
      "text/plain": [
       "5.053031524071723"
      ]
     },
     "execution_count": 17,
     "metadata": {},
     "output_type": "execute_result"
    }
   ],
   "source": [
    "models, best = get_score(use)\n",
    "best"
   ]
  },
  {
   "cell_type": "code",
   "execution_count": 19,
   "id": "33ec88ed",
   "metadata": {},
   "outputs": [],
   "source": [
    "remove = []\n",
    "use2 = use.copy()\n",
    "with open('models-clf.pkl', 'wb') as f:\n",
    "    pickle.dump([models, remove, use2], f)"
   ]
  },
  {
   "cell_type": "code",
   "execution_count": null,
   "id": "b54b6b56",
   "metadata": {},
   "outputs": [],
   "source": []
  },
  {
   "cell_type": "markdown",
   "id": "a085ae34",
   "metadata": {},
   "source": [
    "https://lk.hacks-ai.ru/758300/champ"
   ]
  }
 ],
 "metadata": {
  "kernelspec": {
   "display_name": "Python 3 (ipykernel)",
   "language": "python",
   "name": "python3"
  },
  "language_info": {
   "codemirror_mode": {
    "name": "ipython",
    "version": 3
   },
   "file_extension": ".py",
   "mimetype": "text/x-python",
   "name": "python",
   "nbconvert_exporter": "python",
   "pygments_lexer": "ipython3",
   "version": "3.9.13"
  }
 },
 "nbformat": 4,
 "nbformat_minor": 5
}
