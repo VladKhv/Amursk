{
 "cells": [
  {
   "cell_type": "code",
   "execution_count": 1,
   "id": "84260921",
   "metadata": {},
   "outputs": [],
   "source": [
    "%matplotlib inline\n",
    "\n",
    "import gc\n",
    "import os\n",
    "import sys\n",
    "import pandas as pd\n",
    "import numpy as np\n",
    "import tqdm\n",
    "import seaborn as sns\n",
    "from scipy.stats import mode\n",
    "import pickle\n",
    "\n",
    "from sklearn.model_selection import cross_val_score\n",
    "from sklearn.metrics import recall_score, precision_score\n",
    "import platform\n",
    "from collections import Counter\n",
    "from sklearn.metrics import recall_score, matthews_corrcoef\n",
    "from lightgbm import LGBMClassifier, LGBMRegressor, log_evaluation\n",
    "from lightgbm import early_stopping\n",
    "from sklearn.linear_model import LogisticRegression\n",
    "\n",
    "import matplotlib\n",
    "import matplotlib.pyplot as plt \n",
    "\n",
    "from sklearn.model_selection import train_test_split, StratifiedKFold, KFold\n",
    "from sklearn.metrics import roc_auc_score, matthews_corrcoef, accuracy_score\n",
    "from sklearn.metrics import recall_score, precision_score\n",
    "    \n",
    "import warnings\n",
    "warnings.simplefilter(action = 'ignore', category = FutureWarning)\n",
    "warnings.simplefilter(action = 'ignore', category = DeprecationWarning)\n",
    "warnings.simplefilter(action = 'ignore', category = UserWarning)\n",
    "warnings.simplefilter(action = 'ignore', category = RuntimeWarning)\n",
    "warnings.filterwarnings(\"ignore\", message = \"numpy.dtype size changed\")\n",
    "warnings.filterwarnings(\"ignore\", message = \"numpy.ufunc size changed\")\n",
    "pd.options.mode.chained_assignment = None\n",
    "\n",
    "DEBUG = False\n",
    "target = 'time_to_under'\n",
    "target2 = 'label'\n",
    "ver = '05-reg'"
   ]
  },
  {
   "cell_type": "code",
   "execution_count": 2,
   "id": "8c6ad195",
   "metadata": {},
   "outputs": [],
   "source": [
    "with open('dtest.pkl', 'rb') as f:\n",
    "    dtest = pickle.load(f)"
   ]
  },
  {
   "cell_type": "code",
   "execution_count": 5,
   "id": "5d1568e1",
   "metadata": {},
   "outputs": [],
   "source": [
    "with open('models-reg.pkl', 'rb') as f:\n",
    "    models, remove, use = pickle.load(f)"
   ]
  },
  {
   "cell_type": "code",
   "execution_count": 6,
   "id": "d1810c8c",
   "metadata": {},
   "outputs": [],
   "source": [
    "dtest[target] = 0\n",
    "for model in models:\n",
    "    dtest[target] += model.predict(dtest[use])\n",
    "    \n",
    "dtest[target] = dtest[target] / len(models)"
   ]
  },
  {
   "cell_type": "code",
   "execution_count": 7,
   "id": "9fac5d70",
   "metadata": {},
   "outputs": [],
   "source": [
    "dtest[target2] = 0"
   ]
  },
  {
   "cell_type": "code",
   "execution_count": 8,
   "id": "ae6d6bdb",
   "metadata": {},
   "outputs": [],
   "source": [
    "dtest[['id', 'time_to_under', 'label']].to_csv(f'{ver}.csv', index = False)"
   ]
  },
  {
   "cell_type": "code",
   "execution_count": 9,
   "id": "9a2581ff",
   "metadata": {},
   "outputs": [
    {
     "data": {
      "text/html": [
       "<div>\n",
       "<style scoped>\n",
       "    .dataframe tbody tr th:only-of-type {\n",
       "        vertical-align: middle;\n",
       "    }\n",
       "\n",
       "    .dataframe tbody tr th {\n",
       "        vertical-align: top;\n",
       "    }\n",
       "\n",
       "    .dataframe thead th {\n",
       "        text-align: right;\n",
       "    }\n",
       "</style>\n",
       "<table border=\"1\" class=\"dataframe\">\n",
       "  <thead>\n",
       "    <tr style=\"text-align: right;\">\n",
       "      <th></th>\n",
       "      <th>id</th>\n",
       "      <th>time_to_under</th>\n",
       "      <th>label</th>\n",
       "    </tr>\n",
       "  </thead>\n",
       "  <tbody>\n",
       "    <tr>\n",
       "      <th>0</th>\n",
       "      <td>1091022</td>\n",
       "      <td>726.157997</td>\n",
       "      <td>0</td>\n",
       "    </tr>\n",
       "    <tr>\n",
       "      <th>1</th>\n",
       "      <td>1091023</td>\n",
       "      <td>224.113859</td>\n",
       "      <td>0</td>\n",
       "    </tr>\n",
       "    <tr>\n",
       "      <th>2</th>\n",
       "      <td>1091024</td>\n",
       "      <td>496.546951</td>\n",
       "      <td>0</td>\n",
       "    </tr>\n",
       "    <tr>\n",
       "      <th>3</th>\n",
       "      <td>1091025</td>\n",
       "      <td>673.711717</td>\n",
       "      <td>0</td>\n",
       "    </tr>\n",
       "    <tr>\n",
       "      <th>4</th>\n",
       "      <td>1091026</td>\n",
       "      <td>732.890750</td>\n",
       "      <td>0</td>\n",
       "    </tr>\n",
       "  </tbody>\n",
       "</table>\n",
       "</div>"
      ],
      "text/plain": [
       "        id  time_to_under  label\n",
       "0  1091022     726.157997      0\n",
       "1  1091023     224.113859      0\n",
       "2  1091024     496.546951      0\n",
       "3  1091025     673.711717      0\n",
       "4  1091026     732.890750      0"
      ]
     },
     "execution_count": 9,
     "metadata": {},
     "output_type": "execute_result"
    }
   ],
   "source": [
    "dtest[['id', 'time_to_under', 'label']].head()"
   ]
  },
  {
   "cell_type": "code",
   "execution_count": null,
   "id": "57de96b7",
   "metadata": {},
   "outputs": [],
   "source": []
  },
  {
   "cell_type": "code",
   "execution_count": null,
   "id": "b54b6b56",
   "metadata": {},
   "outputs": [],
   "source": []
  },
  {
   "cell_type": "markdown",
   "id": "a085ae34",
   "metadata": {},
   "source": [
    "https://lk.hacks-ai.ru/758300/champ"
   ]
  }
 ],
 "metadata": {
  "kernelspec": {
   "display_name": "Python 3 (ipykernel)",
   "language": "python",
   "name": "python3"
  },
  "language_info": {
   "codemirror_mode": {
    "name": "ipython",
    "version": 3
   },
   "file_extension": ".py",
   "mimetype": "text/x-python",
   "name": "python",
   "nbconvert_exporter": "python",
   "pygments_lexer": "ipython3",
   "version": "3.9.13"
  }
 },
 "nbformat": 4,
 "nbformat_minor": 5
}
