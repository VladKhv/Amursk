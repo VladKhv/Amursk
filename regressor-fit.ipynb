{
 "cells": [
  {
   "cell_type": "code",
   "execution_count": 1,
   "id": "84260921",
   "metadata": {},
   "outputs": [],
   "source": [
    "%matplotlib inline\n",
    "\n",
    "import gc\n",
    "import os\n",
    "import sys\n",
    "import pandas as pd\n",
    "import numpy as np\n",
    "import tqdm\n",
    "import seaborn as sns\n",
    "from scipy.stats import mode\n",
    "import pickle\n",
    "\n",
    "from sklearn.model_selection import cross_val_score\n",
    "from sklearn.metrics import recall_score, precision_score\n",
    "import platform\n",
    "from collections import Counter\n",
    "from sklearn.metrics import recall_score, matthews_corrcoef\n",
    "from lightgbm import LGBMClassifier, LGBMRegressor, log_evaluation\n",
    "from lightgbm import early_stopping\n",
    "from sklearn.linear_model import LogisticRegression\n",
    "\n",
    "import matplotlib\n",
    "import matplotlib.pyplot as plt \n",
    "\n",
    "from sklearn.model_selection import train_test_split, StratifiedKFold, KFold\n",
    "from sklearn.metrics import roc_auc_score, matthews_corrcoef, accuracy_score\n",
    "from sklearn.metrics import recall_score, precision_score\n",
    "    \n",
    "import warnings\n",
    "warnings.simplefilter(action = 'ignore', category = FutureWarning)\n",
    "warnings.simplefilter(action = 'ignore', category = DeprecationWarning)\n",
    "warnings.simplefilter(action = 'ignore', category = UserWarning)\n",
    "warnings.simplefilter(action = 'ignore', category = RuntimeWarning)\n",
    "warnings.filterwarnings(\"ignore\", message = \"numpy.dtype size changed\")\n",
    "warnings.filterwarnings(\"ignore\", message = \"numpy.ufunc size changed\")\n",
    "pd.options.mode.chained_assignment = None\n",
    "\n",
    "DEBUG = False\n",
    "target = 'time_to_under'\n",
    "target2 = 'label'\n",
    "ver = '05-reg'"
   ]
  },
  {
   "cell_type": "code",
   "execution_count": 2,
   "id": "e2391261",
   "metadata": {},
   "outputs": [],
   "source": [
    "with open('dtrain.pkl', 'rb') as f:\n",
    "    dtrain = pickle.load(f)"
   ]
  },
  {
   "cell_type": "code",
   "execution_count": 3,
   "id": "cc9b006f",
   "metadata": {},
   "outputs": [
    {
     "data": {
      "text/plain": [
       "Index(['id', 'ticket_id', 'entrance_id', 'entrance_nm', 'station_id',\n",
       "       'station_nm', 'line_id', 'pass_dttm', 'time_to_under', 'label',\n",
       "       ...\n",
       "       '19_count_hour', '20_count_hour', '21_count_hour', '22_count_hour',\n",
       "       '23_count_hour', '0_count_hour', '1_count_hour', '2_count_hour',\n",
       "       '3_count_hour', '4_count_hour'],\n",
       "      dtype='object', length=127)"
      ]
     },
     "execution_count": 3,
     "metadata": {},
     "output_type": "execute_result"
    }
   ],
   "source": [
    "dtrain.columns"
   ]
  },
  {
   "cell_type": "code",
   "execution_count": 9,
   "id": "01fc0157",
   "metadata": {},
   "outputs": [
    {
     "data": {
      "text/plain": [
       "129"
      ]
     },
     "execution_count": 9,
     "metadata": {},
     "output_type": "execute_result"
    }
   ],
   "source": [
    "use = [f for f in dtrain.columns if f not in ['id', 'ticket_id', 'pass_dttm', target, target2]]\n",
    "len(use)"
   ]
  },
  {
   "cell_type": "code",
   "execution_count": 10,
   "id": "c5a0d05d",
   "metadata": {},
   "outputs": [],
   "source": [
    "X_train, X_val = train_test_split(\n",
    "    dtrain,\n",
    "    test_size = 0.1, \n",
    "    random_state = 1,\n",
    "    stratify = dtrain[target2]\n",
    ")"
   ]
  },
  {
   "cell_type": "code",
   "execution_count": 19,
   "id": "bea6197c",
   "metadata": {},
   "outputs": [],
   "source": [
    "def get_score(use2):\n",
    "    models = []\n",
    "    SEEDS = 1\n",
    "    \n",
    "    params = {\n",
    "        'max_depth': 15,\n",
    "        'num_leaves': 31,\n",
    "        'subsample': 0.98,\n",
    "        'subsample_freq': 3,\n",
    "        'colsample_bytree': 0.98,\n",
    "        'reg_alpha': 0.01,\n",
    "        'reg_lambda': 0.1,        \n",
    "        'n_estimators': 10000,\n",
    "        'random_state': 0,\n",
    "    }\n",
    "    \n",
    "    for seed in range(SEEDS):\n",
    "        params['random_state'] = seed\n",
    "        model = LGBMRegressor(**params)\n",
    "        model.fit(\n",
    "            X_train[use2],\n",
    "            X_train[target],\n",
    "            eval_set = (X_val[use2], X_val[target]),\n",
    "            callbacks = [early_stopping(500, verbose = 0), log_evaluation(200)],\n",
    "            #eval_metric = lgb_metric\n",
    "        )\n",
    "        models.append(model)\n",
    "    \n",
    "    return models, dict(model.best_score_)['valid_0']['l2']"
   ]
  },
  {
   "cell_type": "code",
   "execution_count": 20,
   "id": "bf1a6104",
   "metadata": {},
   "outputs": [
    {
     "name": "stdout",
     "output_type": "stream",
     "text": [
      "[200]\tvalid_0's l2: 23084.8\n",
      "[400]\tvalid_0's l2: 22976.3\n",
      "[600]\tvalid_0's l2: 22897.3\n",
      "[800]\tvalid_0's l2: 22840.1\n",
      "[1000]\tvalid_0's l2: 22802.3\n",
      "[1200]\tvalid_0's l2: 22763.3\n",
      "[1400]\tvalid_0's l2: 22735.1\n",
      "[1600]\tvalid_0's l2: 22717.9\n",
      "[1800]\tvalid_0's l2: 22699.4\n",
      "[2000]\tvalid_0's l2: 22680.9\n",
      "[2200]\tvalid_0's l2: 22668.8\n",
      "[2400]\tvalid_0's l2: 22653.6\n",
      "[2600]\tvalid_0's l2: 22643.5\n",
      "[2800]\tvalid_0's l2: 22633.9\n",
      "[3000]\tvalid_0's l2: 22629.2\n",
      "[3200]\tvalid_0's l2: 22627.8\n",
      "[3400]\tvalid_0's l2: 22621.8\n",
      "[3600]\tvalid_0's l2: 22618.3\n",
      "[3800]\tvalid_0's l2: 22617.5\n",
      "[4000]\tvalid_0's l2: 22615.2\n",
      "[4200]\tvalid_0's l2: 22615.9\n",
      "[4400]\tvalid_0's l2: 22617.2\n"
     ]
    },
    {
     "data": {
      "text/plain": [
       "22612.057694628984"
      ]
     },
     "execution_count": 20,
     "metadata": {},
     "output_type": "execute_result"
    }
   ],
   "source": [
    "models, best = get_score(use)\n",
    "best"
   ]
  },
  {
   "cell_type": "code",
   "execution_count": 21,
   "id": "b8c1c9b3",
   "metadata": {},
   "outputs": [],
   "source": [
    "#\n",
    "\n",
    "remove = []\n",
    "use2 = use.copy()\n",
    "with open('models-reg.pkl', 'wb') as f:\n",
    "    pickle.dump([models, remove, use2], f)"
   ]
  },
  {
   "cell_type": "code",
   "execution_count": null,
   "id": "b54b6b56",
   "metadata": {},
   "outputs": [],
   "source": []
  },
  {
   "cell_type": "markdown",
   "id": "a085ae34",
   "metadata": {},
   "source": [
    "https://lk.hacks-ai.ru/758300/champ"
   ]
  }
 ],
 "metadata": {
  "kernelspec": {
   "display_name": "Python 3 (ipykernel)",
   "language": "python",
   "name": "python3"
  },
  "language_info": {
   "codemirror_mode": {
    "name": "ipython",
    "version": 3
   },
   "file_extension": ".py",
   "mimetype": "text/x-python",
   "name": "python",
   "nbconvert_exporter": "python",
   "pygments_lexer": "ipython3",
   "version": "3.9.13"
  }
 },
 "nbformat": 4,
 "nbformat_minor": 5
}
